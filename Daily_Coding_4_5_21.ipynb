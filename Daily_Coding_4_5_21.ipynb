{
 "cells": [
  {
   "cell_type": "code",
   "execution_count": 1,
   "metadata": {},
   "outputs": [],
   "source": [
    "import pandas as pd"
   ]
  },
  {
   "cell_type": "code",
   "execution_count": 7,
   "metadata": {},
   "outputs": [
    {
     "data": {
      "text/html": [
       "<div>\n",
       "<style scoped>\n",
       "    .dataframe tbody tr th:only-of-type {\n",
       "        vertical-align: middle;\n",
       "    }\n",
       "\n",
       "    .dataframe tbody tr th {\n",
       "        vertical-align: top;\n",
       "    }\n",
       "\n",
       "    .dataframe thead th {\n",
       "        text-align: right;\n",
       "    }\n",
       "</style>\n",
       "<table border=\"1\" class=\"dataframe\">\n",
       "  <thead>\n",
       "    <tr style=\"text-align: right;\">\n",
       "      <th></th>\n",
       "      <th>title</th>\n",
       "      <th>site</th>\n",
       "      <th>country</th>\n",
       "      <th>year_release</th>\n",
       "      <th>box_office</th>\n",
       "      <th>director</th>\n",
       "      <th>number_of_subjects</th>\n",
       "      <th>subject</th>\n",
       "      <th>type_of_subject</th>\n",
       "      <th>race_known</th>\n",
       "      <th>subject_race</th>\n",
       "      <th>person_of_color</th>\n",
       "      <th>subject_sex</th>\n",
       "      <th>lead_actor_actress</th>\n",
       "    </tr>\n",
       "  </thead>\n",
       "  <tbody>\n",
       "    <tr>\n",
       "      <th>284</th>\n",
       "      <td>into the wild</td>\n",
       "      <td>http://www.imdb.com/title/tt0758758/</td>\n",
       "      <td>us</td>\n",
       "      <td>2007</td>\n",
       "      <td>$18.4m</td>\n",
       "      <td>sean penn</td>\n",
       "      <td>1</td>\n",
       "      <td>christopher mccandless</td>\n",
       "      <td>athlete</td>\n",
       "      <td>unknown</td>\n",
       "      <td>NaN</td>\n",
       "      <td>0</td>\n",
       "      <td>male</td>\n",
       "      <td>emile hirsch</td>\n",
       "    </tr>\n",
       "    <tr>\n",
       "      <th>197</th>\n",
       "      <td>factory girl</td>\n",
       "      <td>http://www.imdb.com/title/tt0432402/</td>\n",
       "      <td>us</td>\n",
       "      <td>2006</td>\n",
       "      <td>$1.65m</td>\n",
       "      <td>george hickenlooper</td>\n",
       "      <td>1</td>\n",
       "      <td>edie sedgwick</td>\n",
       "      <td>actress</td>\n",
       "      <td>known</td>\n",
       "      <td>white</td>\n",
       "      <td>0</td>\n",
       "      <td>female</td>\n",
       "      <td>sienna miller</td>\n",
       "    </tr>\n",
       "    <tr>\n",
       "      <th>38</th>\n",
       "      <td>american sniper</td>\n",
       "      <td>http://www.imdb.com/title/tt2179136/</td>\n",
       "      <td>us</td>\n",
       "      <td>2014</td>\n",
       "      <td>$350m</td>\n",
       "      <td>clint eastwood</td>\n",
       "      <td>1</td>\n",
       "      <td>chris kyle</td>\n",
       "      <td>military</td>\n",
       "      <td>unknown</td>\n",
       "      <td>NaN</td>\n",
       "      <td>0</td>\n",
       "      <td>male</td>\n",
       "      <td>bradley cooper</td>\n",
       "    </tr>\n",
       "    <tr>\n",
       "      <th>172</th>\n",
       "      <td>dillinger</td>\n",
       "      <td>http://www.imdb.com/title/tt0037644/</td>\n",
       "      <td>us</td>\n",
       "      <td>1945</td>\n",
       "      <td>$4m</td>\n",
       "      <td>max nosseck</td>\n",
       "      <td>1</td>\n",
       "      <td>john dillinger</td>\n",
       "      <td>criminal</td>\n",
       "      <td>known</td>\n",
       "      <td>white</td>\n",
       "      <td>0</td>\n",
       "      <td>male</td>\n",
       "      <td>lawrence tierney</td>\n",
       "    </tr>\n",
       "    <tr>\n",
       "      <th>98</th>\n",
       "      <td>burning blue</td>\n",
       "      <td>http://www.imdb.com/title/tt1811307/</td>\n",
       "      <td>us</td>\n",
       "      <td>2013</td>\n",
       "      <td>-</td>\n",
       "      <td>d.m.w. greer with: trent ford, tammy blanchard...</td>\n",
       "      <td>1</td>\n",
       "      <td>dmw greer</td>\n",
       "      <td>military</td>\n",
       "      <td>unknown</td>\n",
       "      <td>NaN</td>\n",
       "      <td>0</td>\n",
       "      <td>male</td>\n",
       "      <td>trent ford</td>\n",
       "    </tr>\n",
       "  </tbody>\n",
       "</table>\n",
       "</div>"
      ],
      "text/plain": [
       "               title                                  site country  \\\n",
       "284    into the wild  http://www.imdb.com/title/tt0758758/      us   \n",
       "197     factory girl  http://www.imdb.com/title/tt0432402/      us   \n",
       "38   american sniper  http://www.imdb.com/title/tt2179136/      us   \n",
       "172        dillinger  http://www.imdb.com/title/tt0037644/      us   \n",
       "98      burning blue  http://www.imdb.com/title/tt1811307/      us   \n",
       "\n",
       "     year_release box_office  \\\n",
       "284          2007     $18.4m   \n",
       "197          2006     $1.65m   \n",
       "38           2014      $350m   \n",
       "172          1945        $4m   \n",
       "98           2013          -   \n",
       "\n",
       "                                              director  number_of_subjects  \\\n",
       "284                                          sean penn                   1   \n",
       "197                                george hickenlooper                   1   \n",
       "38                                      clint eastwood                   1   \n",
       "172                                        max nosseck                   1   \n",
       "98   d.m.w. greer with: trent ford, tammy blanchard...                   1   \n",
       "\n",
       "                    subject type_of_subject race_known subject_race  \\\n",
       "284  christopher mccandless         athlete    unknown          NaN   \n",
       "197           edie sedgwick         actress      known        white   \n",
       "38               chris kyle        military    unknown          NaN   \n",
       "172          john dillinger        criminal      known        white   \n",
       "98                dmw greer        military    unknown          NaN   \n",
       "\n",
       "     person_of_color subject_sex lead_actor_actress  \n",
       "284                0        male       emile hirsch  \n",
       "197                0      female      sienna miller  \n",
       "38                 0        male     bradley cooper  \n",
       "172                0        male   lawrence tierney  \n",
       "98                 0        male         trent ford  "
      ]
     },
     "execution_count": 7,
     "metadata": {},
     "output_type": "execute_result"
    }
   ],
   "source": [
    "df = pd.read_csv('./Data/biopics_csv.csv')\n",
    "df.sample(5)"
   ]
  },
  {
   "cell_type": "code",
   "execution_count": 8,
   "metadata": {},
   "outputs": [
    {
     "name": "stdout",
     "output_type": "stream",
     "text": [
      "<class 'pandas.core.frame.DataFrame'>\n",
      "RangeIndex: 761 entries, 0 to 760\n",
      "Data columns (total 14 columns):\n",
      " #   Column              Non-Null Count  Dtype \n",
      "---  ------              --------------  ----- \n",
      " 0   title               761 non-null    object\n",
      " 1   site                761 non-null    object\n",
      " 2   country             761 non-null    object\n",
      " 3   year_release        761 non-null    int64 \n",
      " 4   box_office          761 non-null    object\n",
      " 5   director            761 non-null    object\n",
      " 6   number_of_subjects  761 non-null    int64 \n",
      " 7   subject             761 non-null    object\n",
      " 8   type_of_subject     761 non-null    object\n",
      " 9   race_known          761 non-null    object\n",
      " 10  subject_race        564 non-null    object\n",
      " 11  person_of_color     761 non-null    int64 \n",
      " 12  subject_sex         761 non-null    object\n",
      " 13  lead_actor_actress  754 non-null    object\n",
      "dtypes: int64(3), object(11)\n",
      "memory usage: 83.4+ KB\n"
     ]
    }
   ],
   "source": [
    "df.info()"
   ]
  },
  {
   "cell_type": "markdown",
   "metadata": {},
   "source": [
    "https://pbpython.com/currency-cleanup.html"
   ]
  },
  {
   "cell_type": "code",
   "execution_count": 10,
   "metadata": {},
   "outputs": [
    {
     "data": {
      "text/plain": [
       "Index(['title', 'site', 'country', 'year_release', 'box_office', 'director',\n",
       "       'number_of_subjects', 'subject', 'type_of_subject', 'race_known',\n",
       "       'subject_race', 'person_of_color', 'subject_sex', 'lead_actor_actress'],\n",
       "      dtype='object')"
      ]
     },
     "execution_count": 10,
     "metadata": {},
     "output_type": "execute_result"
    }
   ],
   "source": [
    "df.columns"
   ]
  },
  {
   "cell_type": "code",
   "execution_count": 38,
   "metadata": {},
   "outputs": [],
   "source": [
    "def process_data(df):\n",
    "    #drop duplicate rows\n",
    "    df = df.drop_duplicates()\n",
    "    #change name\n",
    "    df = df.rename(columns={'box_office':'earnings'})\n",
    "    #remove rows where earnings are missing\n",
    "    df.dropna(subset=['earnings'],inplace=True)\n",
    "    #keep only movies released after 1990 or later\n",
    "    df = df[df['year_release']>=1990]\n",
    "    #convert type to category\n",
    "    df['type_of_subject']=df['type_of_subject'].astype('category')\n",
    "    df['country']=df['country'].astype('category')\n",
    "    #create a new variable\n",
    "    df['lead_actor_actress_known']=df['lead_actor_actress'].apply(lambda x: False if pd.isnull(x) else True)\n",
    "    #update earnings in millions\n",
    "    #update columns orders\n",
    "    new_column_order = ['title', 'year_release','earnings','country','type_of_subject',\n",
    "                        'lead_actor_actress','lead_actor_actress_known','site', 'director',\n",
    "                        'number_of_subjects', 'subject', 'race_known',\n",
    "                        'subject_race', 'person_of_color', 'subject_sex']\n",
    "    #change column orders\n",
    "    df = df.reindex(columns = new_column_order)\n",
    "    df = df.sort_values(by=['earnings'],ascending = False)\n",
    "    return df"
   ]
  },
  {
   "cell_type": "code",
   "execution_count": 40,
   "metadata": {},
   "outputs": [],
   "source": [
    "new_df = process_data(df)"
   ]
  },
  {
   "cell_type": "code",
   "execution_count": 41,
   "metadata": {},
   "outputs": [
    {
     "data": {
      "text/html": [
       "<div>\n",
       "<style scoped>\n",
       "    .dataframe tbody tr th:only-of-type {\n",
       "        vertical-align: middle;\n",
       "    }\n",
       "\n",
       "    .dataframe tbody tr th {\n",
       "        vertical-align: top;\n",
       "    }\n",
       "\n",
       "    .dataframe thead th {\n",
       "        text-align: right;\n",
       "    }\n",
       "</style>\n",
       "<table border=\"1\" class=\"dataframe\">\n",
       "  <thead>\n",
       "    <tr style=\"text-align: right;\">\n",
       "      <th></th>\n",
       "      <th>title</th>\n",
       "      <th>year_release</th>\n",
       "      <th>earnings</th>\n",
       "      <th>country</th>\n",
       "      <th>type_of_subject</th>\n",
       "      <th>lead_actor_actress</th>\n",
       "      <th>lead_actor_actress_known</th>\n",
       "      <th>site</th>\n",
       "      <th>director</th>\n",
       "      <th>number_of_subjects</th>\n",
       "      <th>subject</th>\n",
       "      <th>race_known</th>\n",
       "      <th>subject_race</th>\n",
       "      <th>person_of_color</th>\n",
       "      <th>subject_sex</th>\n",
       "    </tr>\n",
       "  </thead>\n",
       "  <tbody>\n",
       "    <tr>\n",
       "      <th>647</th>\n",
       "      <td>the prince of egypt</td>\n",
       "      <td>1998</td>\n",
       "      <td>$101m</td>\n",
       "      <td>us</td>\n",
       "      <td>historical</td>\n",
       "      <td>ralph fiennes</td>\n",
       "      <td>True</td>\n",
       "      <td>http://www.imdb.com/title/tt0120794/</td>\n",
       "      <td>brenda chapman, steve hickner</td>\n",
       "      <td>2</td>\n",
       "      <td>ramses</td>\n",
       "      <td>known</td>\n",
       "      <td>middle eastern (white)</td>\n",
       "      <td>0</td>\n",
       "      <td>male</td>\n",
       "    </tr>\n",
       "    <tr>\n",
       "      <th>619</th>\n",
       "      <td>the long day closes</td>\n",
       "      <td>1992</td>\n",
       "      <td>$22.8k</td>\n",
       "      <td>uk</td>\n",
       "      <td>other</td>\n",
       "      <td>leigh mccormack</td>\n",
       "      <td>True</td>\n",
       "      <td>http://www.imdb.com/title/tt0104753/</td>\n",
       "      <td>terence davies</td>\n",
       "      <td>1</td>\n",
       "      <td>terence davies</td>\n",
       "      <td>known</td>\n",
       "      <td>white</td>\n",
       "      <td>0</td>\n",
       "      <td>male</td>\n",
       "    </tr>\n",
       "    <tr>\n",
       "      <th>370</th>\n",
       "      <td>mesrine part 2: public enemy #1</td>\n",
       "      <td>2008</td>\n",
       "      <td>$275k</td>\n",
       "      <td>canada</td>\n",
       "      <td>criminal</td>\n",
       "      <td>vincent cassel</td>\n",
       "      <td>True</td>\n",
       "      <td>http://www.imdb.com/title/tt0411272/</td>\n",
       "      <td>jean-franois richet</td>\n",
       "      <td>1</td>\n",
       "      <td>jacques mesrine</td>\n",
       "      <td>known</td>\n",
       "      <td>white</td>\n",
       "      <td>0</td>\n",
       "      <td>male</td>\n",
       "    </tr>\n",
       "    <tr>\n",
       "      <th>573</th>\n",
       "      <td>the frozen ground</td>\n",
       "      <td>2013</td>\n",
       "      <td>-</td>\n",
       "      <td>us</td>\n",
       "      <td>other</td>\n",
       "      <td>nicolas cage</td>\n",
       "      <td>True</td>\n",
       "      <td>http://www.imdb.com/title/tt2005374/</td>\n",
       "      <td>scott walker</td>\n",
       "      <td>2</td>\n",
       "      <td>jack halcombe</td>\n",
       "      <td>unknown</td>\n",
       "      <td>NaN</td>\n",
       "      <td>0</td>\n",
       "      <td>male</td>\n",
       "    </tr>\n",
       "    <tr>\n",
       "      <th>112</th>\n",
       "      <td>captain phillips</td>\n",
       "      <td>2013</td>\n",
       "      <td>$107m</td>\n",
       "      <td>us</td>\n",
       "      <td>military</td>\n",
       "      <td>tom hanks</td>\n",
       "      <td>True</td>\n",
       "      <td>http://www.imdb.com/title/tt1535109/</td>\n",
       "      <td>paul greengrass</td>\n",
       "      <td>1</td>\n",
       "      <td>richard phillips</td>\n",
       "      <td>unknown</td>\n",
       "      <td>NaN</td>\n",
       "      <td>0</td>\n",
       "      <td>male</td>\n",
       "    </tr>\n",
       "  </tbody>\n",
       "</table>\n",
       "</div>"
      ],
      "text/plain": [
       "                               title  year_release earnings country  \\\n",
       "647              the prince of egypt          1998    $101m      us   \n",
       "619              the long day closes          1992   $22.8k      uk   \n",
       "370  mesrine part 2: public enemy #1          2008    $275k  canada   \n",
       "573                the frozen ground          2013        -      us   \n",
       "112                 captain phillips          2013    $107m      us   \n",
       "\n",
       "    type_of_subject lead_actor_actress  lead_actor_actress_known  \\\n",
       "647      historical      ralph fiennes                      True   \n",
       "619           other    leigh mccormack                      True   \n",
       "370        criminal     vincent cassel                      True   \n",
       "573           other       nicolas cage                      True   \n",
       "112        military          tom hanks                      True   \n",
       "\n",
       "                                     site                       director  \\\n",
       "647  http://www.imdb.com/title/tt0120794/  brenda chapman, steve hickner   \n",
       "619  http://www.imdb.com/title/tt0104753/                 terence davies   \n",
       "370  http://www.imdb.com/title/tt0411272/            jean-franois richet   \n",
       "573  http://www.imdb.com/title/tt2005374/                   scott walker   \n",
       "112  http://www.imdb.com/title/tt1535109/                paul greengrass   \n",
       "\n",
       "     number_of_subjects           subject race_known            subject_race  \\\n",
       "647                   2            ramses      known  middle eastern (white)   \n",
       "619                   1    terence davies      known                   white   \n",
       "370                   1   jacques mesrine      known                   white   \n",
       "573                   2     jack halcombe    unknown                     NaN   \n",
       "112                   1  richard phillips    unknown                     NaN   \n",
       "\n",
       "     person_of_color subject_sex  \n",
       "647                0        male  \n",
       "619                0        male  \n",
       "370                0        male  \n",
       "573                0        male  \n",
       "112                0        male  "
      ]
     },
     "execution_count": 41,
     "metadata": {},
     "output_type": "execute_result"
    }
   ],
   "source": [
    "new_df.sample(5)"
   ]
  },
  {
   "cell_type": "code",
   "execution_count": 42,
   "metadata": {},
   "outputs": [
    {
     "name": "stdout",
     "output_type": "stream",
     "text": [
      "<class 'pandas.core.frame.DataFrame'>\n",
      "Int64Index: 452 entries, 142 to 138\n",
      "Data columns (total 15 columns):\n",
      " #   Column                    Non-Null Count  Dtype   \n",
      "---  ------                    --------------  -----   \n",
      " 0   title                     452 non-null    object  \n",
      " 1   year_release              452 non-null    int64   \n",
      " 2   earnings                  452 non-null    object  \n",
      " 3   country                   452 non-null    category\n",
      " 4   type_of_subject           452 non-null    category\n",
      " 5   lead_actor_actress        446 non-null    object  \n",
      " 6   lead_actor_actress_known  452 non-null    bool    \n",
      " 7   site                      452 non-null    object  \n",
      " 8   director                  452 non-null    object  \n",
      " 9   number_of_subjects        452 non-null    int64   \n",
      " 10  subject                   452 non-null    object  \n",
      " 11  race_known                452 non-null    object  \n",
      " 12  subject_race              328 non-null    object  \n",
      " 13  person_of_color           452 non-null    int64   \n",
      " 14  subject_sex               452 non-null    object  \n",
      "dtypes: bool(1), category(2), int64(3), object(9)\n",
      "memory usage: 48.4+ KB\n"
     ]
    }
   ],
   "source": [
    "new_df.info()"
   ]
  },
  {
   "cell_type": "code",
   "execution_count": 43,
   "metadata": {},
   "outputs": [
    {
     "data": {
      "text/plain": [
       "array([ True, False])"
      ]
     },
     "execution_count": 43,
     "metadata": {},
     "output_type": "execute_result"
    }
   ],
   "source": [
    "new_df['lead_actor_actress_known'].unique()"
   ]
  },
  {
   "cell_type": "code",
   "execution_count": 11,
   "metadata": {},
   "outputs": [],
   "source": [
    "#return the max number by insert 5 to N\n",
    "def solution(N):\n",
    "    if N==0:\n",
    "        return 50\n",
    "    elif N>0:\n",
    "        new_s=''\n",
    "        S = str(N)\n",
    "        for s in S:\n",
    "            if int(s)>5:\n",
    "                new_s+=s\n",
    "            else:\n",
    "                new_s = new_s+'5'\n",
    "            \n",
    "    return new_s"
   ]
  },
  {
   "cell_type": "code",
   "execution_count": 12,
   "metadata": {},
   "outputs": [
    {
     "data": {
      "text/plain": [
       "'50'"
      ]
     },
     "execution_count": 12,
     "metadata": {},
     "output_type": "execute_result"
    }
   ],
   "source": [
    "#test the result\n",
    "solution(20)"
   ]
  },
  {
   "cell_type": "code",
   "execution_count": 2,
   "metadata": {},
   "outputs": [],
   "source": [
    "\"\"\"Given 3 int values, a b c, return their sum. However, if one of the values is the same as\n",
    "another of the values, it does not count towards the sum.\"\"\"\n",
    "def lone_sum(a, b, c):\n",
    "  num = [a,b,c]\n",
    "  if len(set(num))==1:\n",
    "    return 0\n",
    "  elif len(set(num))==2:\n",
    "    if a==b:\n",
    "      return c\n",
    "    elif a==c:\n",
    "      return b\n",
    "    else:\n",
    "      return a\n",
    "  else:\n",
    "    return a+b+c"
   ]
  },
  {
   "cell_type": "code",
   "execution_count": 4,
   "metadata": {},
   "outputs": [
    {
     "data": {
      "text/plain": [
       "2"
      ]
     },
     "execution_count": 4,
     "metadata": {},
     "output_type": "execute_result"
    }
   ],
   "source": [
    "lone_sum(3,2,3)"
   ]
  },
  {
   "cell_type": "code",
   "execution_count": 5,
   "metadata": {},
   "outputs": [],
   "source": [
    "\"\"\"\n",
    "Given 3 int values, a b c, return their sum. However, if one of the values is 13 then it \n",
    "does not count towards the sum and values to its right do not count. So for example, \n",
    "if b is 13, then both b and c do not count.\"\"\"\n",
    "def lucky_sum(a, b, c):\n",
    "  num_list =[a, b, c]\n",
    "  if 13 in num_list:\n",
    "    if num_list[0]==13:\n",
    "      return 0\n",
    "    elif num_list[1]==13:\n",
    "      return num_list[0]\n",
    "    else:\n",
    "      return num_list[0]+num_list[1]\n",
    "  else:\n",
    "    return sum(num_list)"
   ]
  },
  {
   "cell_type": "code",
   "execution_count": 6,
   "metadata": {},
   "outputs": [
    {
     "data": {
      "text/plain": [
       "1"
      ]
     },
     "execution_count": 6,
     "metadata": {},
     "output_type": "execute_result"
    }
   ],
   "source": [
    "lucky_sum(1, 13, 3)"
   ]
  },
  {
   "cell_type": "code",
   "execution_count": 8,
   "metadata": {},
   "outputs": [],
   "source": [
    "\"\"\"Given 3 int values, a b c, return their sum. However, if any of the values is a teen \n",
    "-- in the range 13..19 inclusive -- then that value counts as 0, except 15 and 16 do not \n",
    "count as a teens. Write a separate helper \"def fix_teen(n):\"that takes in an int value and \n",
    "returns that value fixed for the teen rule. In this way, you avoid repeating the teen code \n",
    "3 times (i.e. \"decomposition\"). Define the helper below and at the same indent level as the\n",
    "main no_teen_sum().\"\"\"\n",
    "def no_teen_sum(a, b, c):\n",
    "  num_list = [a, b,c]\n",
    "  result = 0\n",
    "  for i in num_list:\n",
    "    result+=fix_teen(i)\n",
    "  \n",
    "  return result\n",
    "  \n",
    "def fix_teen(n):\n",
    "  if n in range(13,20):\n",
    "    if n==15 or n==16:\n",
    "      return n\n",
    "    else:\n",
    "      return 0\n",
    "  else:\n",
    "    return n"
   ]
  },
  {
   "cell_type": "code",
   "execution_count": 9,
   "metadata": {},
   "outputs": [
    {
     "data": {
      "text/plain": [
       "3"
      ]
     },
     "execution_count": 9,
     "metadata": {},
     "output_type": "execute_result"
    }
   ],
   "source": [
    "no_teen_sum(2, 13, 1)"
   ]
  },
  {
   "cell_type": "code",
   "execution_count": 12,
   "metadata": {},
   "outputs": [],
   "source": [
    "\"\"\"\n",
    "For this problem, we'll round an int value up to the next multiple of 10 if its rightmost \n",
    "digit is 5 or more, so 15 rounds up to 20. Alternately, round down to the previous multiple \n",
    "of 10 if its rightmost digit is less than 5, so 12 rounds down to 10. Given 3 ints, a b c, \n",
    "return the sum of their rounded values. To avoid code repetition, write a separate helper \n",
    "\"def round10(num):\" and call it 3 times. Write the helper entirely below and at the same \n",
    "indent level as round_sum().\"\"\"\n",
    "def round_sum(a, b, c):\n",
    "  num_list = [a, b, c]\n",
    "  result = 0\n",
    "  for i in num_list:\n",
    "    result +=round10(i)\n",
    "  return result\n",
    "  \n",
    "  \n",
    "def round10(num):\n",
    "  if num%10>=5:\n",
    "    return (num//10+1)*10\n",
    "  else:\n",
    "    return (num//10)*10"
   ]
  },
  {
   "cell_type": "code",
   "execution_count": 13,
   "metadata": {},
   "outputs": [
    {
     "data": {
      "text/plain": [
       "30"
      ]
     },
     "execution_count": 13,
     "metadata": {},
     "output_type": "execute_result"
    }
   ],
   "source": [
    "round_sum(12, 13, 14)"
   ]
  },
  {
   "cell_type": "code",
   "execution_count": 16,
   "metadata": {},
   "outputs": [],
   "source": [
    "\"\"\"Given three ints, a b c, return True if one of b or c is \"close\" (differing from a by at \n",
    "most 1), while the other is \"far\", differing from both other values by 2 or more. \n",
    "Note: abs(num) computes the absolute value of a number.\"\"\"\n",
    "def close_far(a, b, c):\n",
    "  if abs(b-a) >1 and abs(c-a)>1:\n",
    "    return False\n",
    "  elif abs(b-a)==1 and abs(b-c)>=2 and abs(c-a)>=2:\n",
    "    return True\n",
    "  elif abs(c-a)==1 and abs(b-c)>=2 and abs(b-a)>=2:\n",
    "      return True\n",
    "  else:\n",
    "    return False\n"
   ]
  },
  {
   "cell_type": "code",
   "execution_count": 17,
   "metadata": {},
   "outputs": [
    {
     "data": {
      "text/plain": [
       "2"
      ]
     },
     "execution_count": 17,
     "metadata": {},
     "output_type": "execute_result"
    }
   ],
   "source": [
    "abs(3-5)"
   ]
  },
  {
   "cell_type": "code",
   "execution_count": 19,
   "metadata": {},
   "outputs": [],
   "source": [
    "\"\"\"We want make a package of goal kilos of chocolate. We have small bars (1 kilo each) \n",
    "and big bars (5 kilos each). Return the number of small bars to use, assuming we always \n",
    "use big bars before small bars. Return -1 if it can't be done.\"\"\"\n",
    "def make_chocolate(small, big, goal):\n",
    "  if goal-big*5==0:\n",
    "    return 0\n",
    "  elif goal-big*5>0 and goal-big*5<=small:\n",
    "    return goal-big*5\n",
    "  elif big*5>goal:\n",
    "    if goal%5>small:\n",
    "      return -1\n",
    "    else:\n",
    "      return goal%5\n",
    "  else:\n",
    "    return -1"
   ]
  },
  {
   "cell_type": "code",
   "execution_count": 22,
   "metadata": {},
   "outputs": [],
   "source": [
    "\"\"\"Given a string, return a string where for every char in the original, there are two chars.\"\"\"\n",
    "def double_char(str):\n",
    "  result=''\n",
    "  for s in str:\n",
    "    result +=2*s\n",
    "  return result"
   ]
  },
  {
   "cell_type": "code",
   "execution_count": 23,
   "metadata": {},
   "outputs": [
    {
     "data": {
      "text/plain": [
       "'TThhee'"
      ]
     },
     "execution_count": 23,
     "metadata": {},
     "output_type": "execute_result"
    }
   ],
   "source": [
    "double_char('The')"
   ]
  },
  {
   "cell_type": "code",
   "execution_count": 24,
   "metadata": {},
   "outputs": [],
   "source": [
    "\"\"\"Return the number of times that the string \"hi\" appears anywhere in the given string\"\"\"\n",
    "def count_hi(str):\n",
    "  count_num = str.count('hi')\n",
    "  return count_num"
   ]
  },
  {
   "cell_type": "code",
   "execution_count": 25,
   "metadata": {},
   "outputs": [
    {
     "data": {
      "text/plain": [
       "0"
      ]
     },
     "execution_count": 25,
     "metadata": {},
     "output_type": "execute_result"
    }
   ],
   "source": [
    "count_hi('Hi is no HI on ahI') "
   ]
  },
  {
   "cell_type": "code",
   "execution_count": null,
   "metadata": {},
   "outputs": [],
   "source": [
    "\"\"\"Return True if the string \"cat\" and \"dog\" appear the same number of times in the given string.\"\"\"\n",
    "def cat_dog(str):\n",
    "  count_dog = str.count('dog')\n",
    "  count_cat = str.count('cat')\n",
    "  if count_dog == count_cat:\n",
    "    return True\n",
    "  else:\n",
    "    return False"
   ]
  },
  {
   "cell_type": "code",
   "execution_count": 26,
   "metadata": {},
   "outputs": [],
   "source": [
    "\"\"\"Return the number of times that the string \"code\" appears anywhere in the given string, \n",
    "except we'll accept any letter for the 'd', so \"cope\" and \"cooe\" count.\"\"\"\n",
    "\n",
    "def count_code(str):\n",
    "  count_code = 0\n",
    "  for i in range(len(str)-3):\n",
    "    if str[i]=='c' and str[i+1]=='o' and str[i+3]=='e':\n",
    "      count_code+=1\n",
    "    else:\n",
    "      count_code+=0\n",
    "  return count_code"
   ]
  },
  {
   "cell_type": "code",
   "execution_count": 27,
   "metadata": {},
   "outputs": [
    {
     "data": {
      "text/plain": [
       "3"
      ]
     },
     "execution_count": 27,
     "metadata": {},
     "output_type": "execute_result"
    }
   ],
   "source": [
    "count_code('AAcodeBBcoleCCccoreDD')"
   ]
  },
  {
   "cell_type": "code",
   "execution_count": 28,
   "metadata": {},
   "outputs": [],
   "source": [
    "\"\"\"\n",
    "Given two strings, return True if either of the strings appears at the very end of the \n",
    "other string, ignoring upper/lower case differences (in other words, the computation should \n",
    "not be \"case sensitive\"). Note: s.lower() returns the lowercase version of a string.\n",
    "\"\"\"\n",
    "\n",
    "def end_other(a, b):\n",
    "  if len(a)>=len(b) and a[-len(b):].lower()==b.lower():\n",
    "      return True\n",
    "  elif len(a)<len(b) and b[-len(a):].lower()==a.lower():\n",
    "      return True\n",
    "  else:\n",
    "    return False"
   ]
  },
  {
   "cell_type": "code",
   "execution_count": 29,
   "metadata": {},
   "outputs": [
    {
     "data": {
      "text/plain": [
       "False"
      ]
     },
     "execution_count": 29,
     "metadata": {},
     "output_type": "execute_result"
    }
   ],
   "source": [
    "end_other('ab', 'ab12')"
   ]
  },
  {
   "cell_type": "code",
   "execution_count": 35,
   "metadata": {},
   "outputs": [],
   "source": [
    "\"\"\"\n",
    "Return True if the given string contains an appearance of \"xyz\" where the xyz is not \n",
    "directly preceeded by a period (.). So \"xxyz\" counts but \"x.xyz\" does not.\n",
    "\"\"\"\n",
    "def xyz_there(str):\n",
    "  return 'xyz' in str.replace(\".xyz\", \"\") "
   ]
  },
  {
   "cell_type": "code",
   "execution_count": 36,
   "metadata": {},
   "outputs": [
    {
     "data": {
      "text/plain": [
       "True"
      ]
     },
     "execution_count": 36,
     "metadata": {},
     "output_type": "execute_result"
    }
   ],
   "source": [
    "xyz_there('abcxyz')"
   ]
  },
  {
   "cell_type": "code",
   "execution_count": null,
   "metadata": {},
   "outputs": [],
   "source": []
  }
 ],
 "metadata": {
  "kernelspec": {
   "display_name": "Python 3",
   "language": "python",
   "name": "python3"
  },
  "language_info": {
   "codemirror_mode": {
    "name": "ipython",
    "version": 3
   },
   "file_extension": ".py",
   "mimetype": "text/x-python",
   "name": "python",
   "nbconvert_exporter": "python",
   "pygments_lexer": "ipython3",
   "version": "3.8.5"
  },
  "toc": {
   "base_numbering": 1,
   "nav_menu": {},
   "number_sections": true,
   "sideBar": true,
   "skip_h1_title": false,
   "title_cell": "Table of Contents",
   "title_sidebar": "Contents",
   "toc_cell": false,
   "toc_position": {},
   "toc_section_display": true,
   "toc_window_display": false
  }
 },
 "nbformat": 4,
 "nbformat_minor": 4
}
