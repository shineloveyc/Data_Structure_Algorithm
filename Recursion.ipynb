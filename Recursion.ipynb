{
  "nbformat": 4,
  "nbformat_minor": 0,
  "metadata": {
    "colab": {
      "name": "Recursion.ipynb",
      "provenance": [],
      "collapsed_sections": [],
      "authorship_tag": "ABX9TyOXi+V+ippDaZLn4QAh3OQa",
      "include_colab_link": true
    },
    "kernelspec": {
      "name": "python3",
      "display_name": "Python 3"
    }
  },
  "cells": [
    {
      "cell_type": "markdown",
      "metadata": {
        "id": "view-in-github",
        "colab_type": "text"
      },
      "source": [
        "<a href=\"https://colab.research.google.com/github/shineloveyc/Data_Structure_Algorithm/blob/main/Recursion.ipynb\" target=\"_parent\"><img src=\"https://colab.research.google.com/assets/colab-badge.svg\" alt=\"Open In Colab\"/></a>"
      ]
    },
    {
      "cell_type": "code",
      "metadata": {
        "id": "Hd728QG2jMXT"
      },
      "source": [
        "#factorial function\n",
        "def factorial(n):\n",
        "  #base case which gives fixed quantities\n",
        "  if n==0:\n",
        "    return 1\n",
        "  #recursive cases, each time the function is called, the agr smaller by 1 until base case reached\n",
        "  else:\n",
        "    return n*factorial(n-1)"
      ],
      "execution_count": 1,
      "outputs": []
    },
    {
      "cell_type": "code",
      "metadata": {
        "colab": {
          "base_uri": "https://localhost:8080/"
        },
        "id": "huT4oW80kPaP",
        "outputId": "c4bb09b5-9afa-4c20-f953-d14054a43d19"
      },
      "source": [
        "factorial(5)"
      ],
      "execution_count": 2,
      "outputs": [
        {
          "output_type": "execute_result",
          "data": {
            "text/plain": [
              "120"
            ]
          },
          "metadata": {
            "tags": []
          },
          "execution_count": 2
        }
      ]
    },
    {
      "cell_type": "code",
      "metadata": {
        "id": "8CZQDd1PPPEK"
      },
      "source": [
        "tick_label = ''"
      ],
      "execution_count": 3,
      "outputs": []
    },
    {
      "cell_type": "code",
      "metadata": {
        "colab": {
          "base_uri": "https://localhost:8080/"
        },
        "id": "9dFeF5UsPRuc",
        "outputId": "abfe7246-6101-4590-fcdd-0b4a6f38fb24"
      },
      "source": [
        "bool(tick_label)"
      ],
      "execution_count": 5,
      "outputs": [
        {
          "output_type": "execute_result",
          "data": {
            "text/plain": [
              "False"
            ]
          },
          "metadata": {
            "tags": []
          },
          "execution_count": 5
        }
      ]
    },
    {
      "cell_type": "code",
      "metadata": {
        "id": "5kVUpmNpN5yT"
      },
      "source": [
        "#english ruler\n",
        "#define function to draw the line\n",
        "def draw_line(tick_length, tick_label = ''):\n",
        "  line = '-' * tick_length\n",
        "  if tick_label:\n",
        "    line+=' ' + tick_label\n",
        "  print(line)\n",
        "\n",
        "def draw_interval(center_len):\n",
        "  if center_len >0:\n",
        "    draw_interval(center_len -1) #rescursive  draw upper ticks\n",
        "    draw_line(center_len)\n",
        "    draw_interval(center_len -1) #recursive draw button ticks\n",
        "\n",
        "def draw_ruler(num_inches, major_len):\n",
        "  draw_line(major_len, '0') #draw inch 0 lines\n",
        "  for j in range(1, 1+num_inches):\n",
        "    draw_interval(major_len -1) #draw inteerior ticks for inch\n",
        "    draw_line(major_len, str(j)) #draw inch j line and label"
      ],
      "execution_count": 6,
      "outputs": []
    },
    {
      "cell_type": "code",
      "metadata": {
        "id": "JxMkQfUuQeyc"
      },
      "source": [
        "#binary search\n",
        "def binary_search(data, target, low, high):\n",
        "  if low>high:\n",
        "    return False #search only works for data from data[low] to data[high]\n",
        "  else:\n",
        "    mid =(low+high)//2\n",
        "    if target == data[mid]:\n",
        "      return target\n",
        "    elif target<data[mid]:\n",
        "      return binary_search(data, target,low, mid -1)\n",
        "    else:\n",
        "      return binary_search(data, target, mid+1, high)"
      ],
      "execution_count": 15,
      "outputs": []
    },
    {
      "cell_type": "code",
      "metadata": {
        "colab": {
          "base_uri": "https://localhost:8080/"
        },
        "id": "_hTf8kk4YCKn",
        "outputId": "aceb805a-4dde-42bc-ff7b-b86734bf8475"
      },
      "source": [
        "list_s = [1,2,3,4,5,6,7]\n",
        "\n",
        "binary_search(list_s, 6, 0, 6)"
      ],
      "execution_count": 16,
      "outputs": [
        {
          "output_type": "execute_result",
          "data": {
            "text/plain": [
              "6"
            ]
          },
          "metadata": {
            "tags": []
          },
          "execution_count": 16
        }
      ]
    },
    {
      "cell_type": "code",
      "metadata": {
        "id": "0iUWvQ9zYaTo"
      },
      "source": [
        "#file system\n"
      ],
      "execution_count": null,
      "outputs": []
    }
  ]
}