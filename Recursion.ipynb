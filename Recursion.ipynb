{
  "nbformat": 4,
  "nbformat_minor": 0,
  "metadata": {
    "colab": {
      "name": "Recursion.ipynb",
      "provenance": [],
      "collapsed_sections": [],
      "authorship_tag": "ABX9TyNFaIw5YVPxeefQFH7vHThc",
      "include_colab_link": true
    },
    "kernelspec": {
      "name": "python3",
      "display_name": "Python 3"
    }
  },
  "cells": [
    {
      "cell_type": "markdown",
      "metadata": {
        "id": "view-in-github",
        "colab_type": "text"
      },
      "source": [
        "<a href=\"https://colab.research.google.com/github/shineloveyc/Data_Structure_Algorithm/blob/main/Recursion.ipynb\" target=\"_parent\"><img src=\"https://colab.research.google.com/assets/colab-badge.svg\" alt=\"Open In Colab\"/></a>"
      ]
    },
    {
      "cell_type": "code",
      "metadata": {
        "id": "Hd728QG2jMXT"
      },
      "source": [
        "#factorial function\n",
        "def factorial(n):\n",
        "  #base case which gives fixed quantities\n",
        "  if n==0:\n",
        "    return 1\n",
        "  #recursive cases, each time the function is called, the agr smaller by 1 until base case reached\n",
        "  else:\n",
        "    return n*factorial(n-1)"
      ],
      "execution_count": 1,
      "outputs": []
    },
    {
      "cell_type": "code",
      "metadata": {
        "colab": {
          "base_uri": "https://localhost:8080/"
        },
        "id": "huT4oW80kPaP",
        "outputId": "c4bb09b5-9afa-4c20-f953-d14054a43d19"
      },
      "source": [
        "factorial(5)"
      ],
      "execution_count": 2,
      "outputs": [
        {
          "output_type": "execute_result",
          "data": {
            "text/plain": [
              "120"
            ]
          },
          "metadata": {
            "tags": []
          },
          "execution_count": 2
        }
      ]
    },
    {
      "cell_type": "code",
      "metadata": {
        "id": "8CZQDd1PPPEK"
      },
      "source": [
        "tick_label = ''"
      ],
      "execution_count": 3,
      "outputs": []
    },
    {
      "cell_type": "code",
      "metadata": {
        "colab": {
          "base_uri": "https://localhost:8080/"
        },
        "id": "9dFeF5UsPRuc",
        "outputId": "abfe7246-6101-4590-fcdd-0b4a6f38fb24"
      },
      "source": [
        "bool(tick_label)"
      ],
      "execution_count": 5,
      "outputs": [
        {
          "output_type": "execute_result",
          "data": {
            "text/plain": [
              "False"
            ]
          },
          "metadata": {
            "tags": []
          },
          "execution_count": 5
        }
      ]
    },
    {
      "cell_type": "code",
      "metadata": {
        "id": "5kVUpmNpN5yT"
      },
      "source": [
        "#english ruler\n",
        "#define function to draw the line\n",
        "def draw_line(tick_length, tick_label = ''):\n",
        "  line = '-' * tick_length\n",
        "  if tick_label:\n",
        "    line+=' ' + tick_label\n",
        "  print(line)\n",
        "\n",
        "def draw_interval(center_len):\n",
        "  if center_len >0:\n",
        "    draw_interval(center_len -1) #rescursive  draw upper ticks\n",
        "    draw_line(center_len)\n",
        "    draw_interval(center_len -1) #recursive draw button ticks\n",
        "\n",
        "def draw_ruler(num_inches, major_len):\n",
        "  draw_line(major_len, '0') #draw inch 0 lines\n",
        "  for j in range(1, 1+num_inches):\n",
        "    draw_interval(major_len -1) #draw inteerior ticks for inch\n",
        "    draw_line(major_len, str(j)) #draw inch j line and label"
      ],
      "execution_count": 6,
      "outputs": []
    },
    {
      "cell_type": "code",
      "metadata": {
        "id": "JxMkQfUuQeyc"
      },
      "source": [
        "#binary search\n",
        "def binary_search(data, target, low, high):\n",
        "  if low>high:\n",
        "    return False #search only works for data from data[low] to data[high]\n",
        "  else:\n",
        "    mid =(low+high)//2\n",
        "    if target == data[mid]:\n",
        "      return target\n",
        "    elif target<data[mid]:\n",
        "      return binary_search(data, target,low, mid -1)\n",
        "    else:\n",
        "      return binary_search(data, target, mid+1, high)"
      ],
      "execution_count": 15,
      "outputs": []
    },
    {
      "cell_type": "code",
      "metadata": {
        "colab": {
          "base_uri": "https://localhost:8080/"
        },
        "id": "_hTf8kk4YCKn",
        "outputId": "aceb805a-4dde-42bc-ff7b-b86734bf8475"
      },
      "source": [
        "list_s = [1,2,3,4,5,6,7]\n",
        "\n",
        "binary_search(list_s, 6, 0, 6)"
      ],
      "execution_count": 16,
      "outputs": [
        {
          "output_type": "execute_result",
          "data": {
            "text/plain": [
              "6"
            ]
          },
          "metadata": {
            "tags": []
          },
          "execution_count": 16
        }
      ]
    },
    {
      "cell_type": "code",
      "metadata": {
        "id": "0iUWvQ9zYaTo"
      },
      "source": [
        "#file system\n",
        "import os.path"
      ],
      "execution_count": 17,
      "outputs": []
    },
    {
      "cell_type": "code",
      "metadata": {
        "id": "DtBKmj5ca-1N"
      },
      "source": [
        "path = os.getcwd()"
      ],
      "execution_count": 22,
      "outputs": []
    },
    {
      "cell_type": "code",
      "metadata": {
        "colab": {
          "base_uri": "https://localhost:8080/"
        },
        "id": "M6rposOsazEp",
        "outputId": "8499d402-b11d-4001-870f-e54b55fc08ab"
      },
      "source": [
        "#return the size of immediate directory\n",
        "os.path.getsize(os.getcwd())"
      ],
      "execution_count": 19,
      "outputs": [
        {
          "output_type": "execute_result",
          "data": {
            "text/plain": [
              "4096"
            ]
          },
          "metadata": {
            "tags": []
          },
          "execution_count": 19
        }
      ]
    },
    {
      "cell_type": "code",
      "metadata": {
        "colab": {
          "base_uri": "https://localhost:8080/"
        },
        "id": "A-Sg_l8ubo94",
        "outputId": "0836252e-7f1a-45e0-b968-0e29a025b270"
      },
      "source": [
        "#return true is path is a directory\n",
        "os.path.isdir(os.getcwd())"
      ],
      "execution_count": 21,
      "outputs": [
        {
          "output_type": "execute_result",
          "data": {
            "text/plain": [
              "True"
            ]
          },
          "metadata": {
            "tags": []
          },
          "execution_count": 21
        }
      ]
    },
    {
      "cell_type": "code",
      "metadata": {
        "colab": {
          "base_uri": "https://localhost:8080/"
        },
        "id": "lFF8EiE9b_OY",
        "outputId": "99220ffb-6c16-40be-a388-e4a184f9d053"
      },
      "source": [
        "#list files in directory\n",
        "os.listdir(path)"
      ],
      "execution_count": 23,
      "outputs": [
        {
          "output_type": "execute_result",
          "data": {
            "text/plain": [
              "['.config', 'sample_data']"
            ]
          },
          "metadata": {
            "tags": []
          },
          "execution_count": 23
        }
      ]
    },
    {
      "cell_type": "code",
      "metadata": {
        "id": "hC2S-5iUcLWq"
      },
      "source": [
        "#implement system\n",
        "import os\n",
        "def disk_usage(path):\n",
        "  #get direct usage\n",
        "  total = os.path.getsize(path)\n",
        "\n",
        "  if os.path.isdir(path):\n",
        "    for filename in os.listdir(path):\n",
        "      #compose full path to child\n",
        "      childpath = os.path.join(path, filename)\n",
        "      #recursion to get the usage for each child adds to total\n",
        "      total+=disk_usage(childpath)\n",
        "  \n",
        "  print('{0:<7}'.format(total), path)\n",
        "\n",
        "  return total"
      ],
      "execution_count": 26,
      "outputs": []
    },
    {
      "cell_type": "code",
      "metadata": {
        "colab": {
          "base_uri": "https://localhost:8080/"
        },
        "id": "-QiIa4eGhKNa",
        "outputId": "0e7f3830-b7ef-4bf8-9d71-f0c4593f1be3"
      },
      "source": [
        "disk_usage(path)"
      ],
      "execution_count": 27,
      "outputs": [
        {
          "output_type": "stream",
          "text": [
            "10024   /content/.config/logs/2020.12.21/17.28.47.180010.log\n",
            "29556   /content/.config/logs/2020.12.21/17.28.10.224796.log\n",
            "625     /content/.config/logs/2020.12.21/17.29.09.326092.log\n",
            "389     /content/.config/logs/2020.12.21/17.28.32.541165.log\n",
            "620     /content/.config/logs/2020.12.21/17.29.09.888329.log\n",
            "389     /content/.config/logs/2020.12.21/17.28.53.747819.log\n",
            "45699   /content/.config/logs/2020.12.21\n",
            "49795   /content/.config/logs\n",
            "3       /content/.config/.last_opt_in_prompt.yaml\n",
            "94      /content/.config/configurations/config_default\n",
            "4190    /content/.config/configurations\n",
            "134     /content/.config/.last_update_check.json\n",
            "7       /content/.config/active_config\n",
            "5       /content/.config/gce\n",
            "0       /content/.config/config_sentinel\n",
            "37      /content/.config/.last_survey_prompt.yaml\n",
            "32      /content/.config/.metricsUUID\n",
            "58299   /content/.config\n",
            "1697    /content/sample_data/anscombe.json\n",
            "930     /content/sample_data/README.md\n",
            "18289443 /content/sample_data/mnist_test.csv\n",
            "301141  /content/sample_data/california_housing_test.csv\n",
            "1706430 /content/sample_data/california_housing_train.csv\n",
            "36523880 /content/sample_data/mnist_train_small.csv\n",
            "56827617 /content/sample_data\n",
            "56890012 /content\n"
          ],
          "name": "stdout"
        },
        {
          "output_type": "execute_result",
          "data": {
            "text/plain": [
              "56890012"
            ]
          },
          "metadata": {
            "tags": []
          },
          "execution_count": 27
        }
      ]
    },
    {
      "cell_type": "code",
      "metadata": {
        "id": "PLsfPR78hjS7"
      },
      "source": [
        ""
      ],
      "execution_count": null,
      "outputs": []
    }
  ]
}