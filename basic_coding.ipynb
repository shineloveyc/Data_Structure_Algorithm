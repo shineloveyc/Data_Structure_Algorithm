{
  "nbformat": 4,
  "nbformat_minor": 0,
  "metadata": {
    "colab": {
      "name": "basic_coding.ipynb",
      "provenance": [],
      "authorship_tag": "ABX9TyN0Tcbu3lDgrUoRT+zEBhcI",
      "include_colab_link": true
    },
    "kernelspec": {
      "name": "python3",
      "display_name": "Python 3"
    }
  },
  "cells": [
    {
      "cell_type": "markdown",
      "metadata": {
        "id": "view-in-github",
        "colab_type": "text"
      },
      "source": [
        "<a href=\"https://colab.research.google.com/github/shineloveyc/Data_Structure_Algorithm/blob/main/basic_coding.ipynb\" target=\"_parent\"><img src=\"https://colab.research.google.com/assets/colab-badge.svg\" alt=\"Open In Colab\"/></a>"
      ]
    },
    {
      "cell_type": "code",
      "metadata": {
        "colab": {
          "base_uri": "https://localhost:8080/"
        },
        "id": "6AqUNBbFtepv",
        "outputId": "286a283e-2222-4ea9-84d0-45bf4c6173d0"
      },
      "source": [
        "print('Please enter your name: ')\n",
        "val = input(\"Enter your value: \") \n",
        "print('Hello ', val)"
      ],
      "execution_count": 1,
      "outputs": [
        {
          "output_type": "stream",
          "text": [
            "Please enter your name\n",
            "Enter your value: shine\n",
            "Hello  shine\n"
          ],
          "name": "stdout"
        }
      ]
    },
    {
      "cell_type": "code",
      "metadata": {
        "colab": {
          "base_uri": "https://localhost:8080/"
        },
        "id": "_FhMD-v6uaaR",
        "outputId": "ebed1427-3577-4c67-e595-0f13b4e367ac"
      },
      "source": [
        "a = input(\"Enter hours: \")\n",
        "b = input('Enter Rate: ')\n",
        "print('Pay ', int(a)*int(b))"
      ],
      "execution_count": 3,
      "outputs": [
        {
          "output_type": "stream",
          "text": [
            "Enter hours35\n",
            "Enter Rate7\n",
            "Pay  245\n"
          ],
          "name": "stdout"
        }
      ]
    },
    {
      "cell_type": "code",
      "metadata": {
        "id": "bV-oNImww61_"
      },
      "source": [
        "width = 17\n",
        "height = 12.0"
      ],
      "execution_count": 4,
      "outputs": []
    },
    {
      "cell_type": "code",
      "metadata": {
        "colab": {
          "base_uri": "https://localhost:8080/"
        },
        "id": "H7uWRbNPxPtt",
        "outputId": "27603140-9d7a-44a2-9c23-aa8612c8897a"
      },
      "source": [
        "height/3"
      ],
      "execution_count": 5,
      "outputs": [
        {
          "output_type": "execute_result",
          "data": {
            "text/plain": [
              "4.0"
            ]
          },
          "metadata": {
            "tags": []
          },
          "execution_count": 5
        }
      ]
    },
    {
      "cell_type": "code",
      "metadata": {
        "colab": {
          "base_uri": "https://localhost:8080/"
        },
        "id": "fHgxF2W8xRQM",
        "outputId": "7f9ca250-fd09-4912-c90c-7bc7ca4342b1"
      },
      "source": [
        "input_c = input(\"please enter celsius temperature: \")\n",
        "print(\"The Fahrenheit temperature is: \", float(input_c)*9/5+32)"
      ],
      "execution_count": 8,
      "outputs": [
        {
          "output_type": "stream",
          "text": [
            "please enter celsius temperature:20\n",
            "The Fahrenheit temperature is  68.0\n"
          ],
          "name": "stdout"
        }
      ]
    },
    {
      "cell_type": "code",
      "metadata": {
        "colab": {
          "base_uri": "https://localhost:8080/"
        },
        "id": "5FiCRCEjx8t8",
        "outputId": "76357168-3495-457f-97a5-b4cb90b6d346"
      },
      "source": [
        "0 and True"
      ],
      "execution_count": 9,
      "outputs": [
        {
          "output_type": "execute_result",
          "data": {
            "text/plain": [
              "0"
            ]
          },
          "metadata": {
            "tags": []
          },
          "execution_count": 9
        }
      ]
    },
    {
      "cell_type": "code",
      "metadata": {
        "colab": {
          "base_uri": "https://localhost:8080/"
        },
        "id": "buNWnwMQyHZ2",
        "outputId": "4f3863f3-9ed5-450e-8ae0-84fff4b236a3"
      },
      "source": [
        "17 and True"
      ],
      "execution_count": 10,
      "outputs": [
        {
          "output_type": "execute_result",
          "data": {
            "text/plain": [
              "True"
            ]
          },
          "metadata": {
            "tags": []
          },
          "execution_count": 10
        }
      ]
    },
    {
      "cell_type": "code",
      "metadata": {
        "colab": {
          "base_uri": "https://localhost:8080/"
        },
        "id": "Vn_TKqq4yKev",
        "outputId": "078decf8-2ab6-440d-9c7e-7a47c4886561"
      },
      "source": [
        "input_c = input(\"please enter celsius temperature: \")\n",
        "try:\n",
        "  correct_input = float(input_c)\n",
        "  f_result = correct_input*9/5+32\n",
        "  print(f_result)\n",
        "except:\n",
        "  print('please enter a number: ')\n"
      ],
      "execution_count": 13,
      "outputs": [
        {
          "output_type": "stream",
          "text": [
            "please enter celsius temperature:er\n",
            "please enter a number\n"
          ],
          "name": "stdout"
        }
      ]
    },
    {
      "cell_type": "code",
      "metadata": {
        "colab": {
          "base_uri": "https://localhost:8080/"
        },
        "id": "Zgn3QcR21zYH",
        "outputId": "c24edf1b-f38e-465a-ccee-15209c820481"
      },
      "source": [
        "a = input(\"Enter hours: \")\n",
        "b = input('Enter Rate: ')\n",
        "\n",
        "if int(a)>40:\n",
        "  print('Pay ', int(a)*int(b)*1.5)\n",
        "else:\n",
        "  print('Pay ', int(a)*int(b))"
      ],
      "execution_count": 16,
      "outputs": [
        {
          "output_type": "stream",
          "text": [
            "Enter hours55\n",
            "Enter Rate12\n",
            "Pay  990.0\n"
          ],
          "name": "stdout"
        }
      ]
    },
    {
      "cell_type": "code",
      "metadata": {
        "colab": {
          "base_uri": "https://localhost:8080/"
        },
        "id": "EBOyBqcp2QIq",
        "outputId": "e3086577-48d8-49b6-f696-7b9455714cde"
      },
      "source": [
        "a = input(\"Enter hours: \")\n",
        "b = input('Enter Rate: ')\n",
        "\n",
        "try:\n",
        "  if int(a)>40:\n",
        "    print('Pay ', int(a)*int(b)*1.5)\n",
        "  else:\n",
        "    print('Pay ', int(a)*int(b))\n",
        "except:\n",
        "  print(\"please enter a numeric value\")"
      ],
      "execution_count": 17,
      "outputs": [
        {
          "output_type": "stream",
          "text": [
            "Enter hoursnine\n",
            "Enter Rate9\n",
            "please enter a numeric value\n"
          ],
          "name": "stdout"
        }
      ]
    },
    {
      "cell_type": "code",
      "metadata": {
        "colab": {
          "base_uri": "https://localhost:8080/"
        },
        "id": "WVaLjcfO2lEQ",
        "outputId": "12e3e3a9-f66a-488c-eaa3-b8d6a67dbd73"
      },
      "source": [
        "input_s = input(\"please enter a score: \")\n",
        "\n",
        "try:\n",
        "  n_input = float(input_s)\n",
        "  if  n_input>=0.0 and n_input<=1.0:\n",
        "    if n_input >=0.9:\n",
        "      print(\"A\")\n",
        "    elif n_input>=0.8:\n",
        "      print(\"B\")\n",
        "    elif n_input>=0.7:\n",
        "      print(\"C\")\n",
        "    elif n_input>=0.6:\n",
        "      print('D')\n",
        "    else:\n",
        "      print(\"F\")\n",
        "  else:\n",
        "    print('please enter a number within the range: ')\n",
        "except:\n",
        "  print(\"please enter a number\")\n",
        "  "
      ],
      "execution_count": 21,
      "outputs": [
        {
          "output_type": "stream",
          "text": [
            "please enter a score: 0.2\n",
            "F\n"
          ],
          "name": "stdout"
        }
      ]
    },
    {
      "cell_type": "code",
      "metadata": {
        "colab": {
          "base_uri": "https://localhost:8080/"
        },
        "id": "cQYC79ws4T_6",
        "outputId": "d7c105f6-368c-4d98-f119-c22eebf406bb"
      },
      "source": [
        "import random\n",
        "for i in range(10):\n",
        "  x = random.random()\n",
        "  print(x)"
      ],
      "execution_count": 24,
      "outputs": [
        {
          "output_type": "stream",
          "text": [
            "0.875424164907634\n",
            "0.11799885541099586\n",
            "0.949770677891289\n",
            "0.7517576608974009\n",
            "0.3574554745508569\n",
            "0.773056502314222\n",
            "0.844769681639536\n",
            "0.14366123552751298\n",
            "0.14786736254254318\n",
            "0.16047481136504527\n"
          ],
          "name": "stdout"
        }
      ]
    },
    {
      "cell_type": "code",
      "metadata": {
        "colab": {
          "base_uri": "https://localhost:8080/"
        },
        "id": "MyMHgljUCyDw",
        "outputId": "a7b7d4dc-487c-4182-ae10-905684fe0313"
      },
      "source": [
        "random.randint(5,10)"
      ],
      "execution_count": 26,
      "outputs": [
        {
          "output_type": "execute_result",
          "data": {
            "text/plain": [
              "9"
            ]
          },
          "metadata": {
            "tags": []
          },
          "execution_count": 26
        }
      ]
    },
    {
      "cell_type": "code",
      "metadata": {
        "colab": {
          "base_uri": "https://localhost:8080/"
        },
        "id": "-Q4jVIhLDHAP",
        "outputId": "903c99f2-4cf1-4088-ef90-778fadefdc08"
      },
      "source": [
        "t = [1 ,3, 5]\n",
        "random.choice(t)"
      ],
      "execution_count": 27,
      "outputs": [
        {
          "output_type": "execute_result",
          "data": {
            "text/plain": [
              "3"
            ]
          },
          "metadata": {
            "tags": []
          },
          "execution_count": 27
        }
      ]
    },
    {
      "cell_type": "code",
      "metadata": {
        "id": "AUgRpxoVDRqR"
      },
      "source": [
        "import math"
      ],
      "execution_count": 28,
      "outputs": []
    },
    {
      "cell_type": "code",
      "metadata": {
        "colab": {
          "base_uri": "https://localhost:8080/"
        },
        "id": "PaYKG1AEDVsU",
        "outputId": "2c91d6d1-0945-4d71-f803-c85cb0ab012b"
      },
      "source": [
        "degrees = 45\n",
        "radians = degrees/360.0*2*math.pi\n",
        "math.sin(radians)"
      ],
      "execution_count": 29,
      "outputs": [
        {
          "output_type": "execute_result",
          "data": {
            "text/plain": [
              "0.7071067811865475"
            ]
          },
          "metadata": {
            "tags": []
          },
          "execution_count": 29
        }
      ]
    },
    {
      "cell_type": "code",
      "metadata": {
        "id": "6-HY6gl7DmXT"
      },
      "source": [
        "#def a void function==>which doesn't return any value\n",
        "def print_twice(bruce):\n",
        "  print(bruce)\n",
        "  print(bruce)"
      ],
      "execution_count": 30,
      "outputs": []
    },
    {
      "cell_type": "code",
      "metadata": {
        "colab": {
          "base_uri": "https://localhost:8080/"
        },
        "id": "zExT-SNpENqa",
        "outputId": "2aaeb6dc-8ef0-4d45-ac63-4968b6167b48"
      },
      "source": [
        "print_twice('shine')"
      ],
      "execution_count": 31,
      "outputs": [
        {
          "output_type": "stream",
          "text": [
            "shine\n",
            "shine\n"
          ],
          "name": "stdout"
        }
      ]
    },
    {
      "cell_type": "code",
      "metadata": {
        "colab": {
          "base_uri": "https://localhost:8080/"
        },
        "id": "0_7TuSgOEQ4F",
        "outputId": "80f24d0c-e8ac-4d8e-c3c0-61dff881ee3d"
      },
      "source": [
        "print_twice(math.cos(math.pi))"
      ],
      "execution_count": 32,
      "outputs": [
        {
          "output_type": "stream",
          "text": [
            "-1.0\n",
            "-1.0\n"
          ],
          "name": "stdout"
        }
      ]
    },
    {
      "cell_type": "code",
      "metadata": {
        "colab": {
          "base_uri": "https://localhost:8080/"
        },
        "id": "XzzoWYOSEWJl",
        "outputId": "7cd98590-f0ff-43f5-f943-b9babaf902de"
      },
      "source": [
        "michael = 'hello, michael'\n",
        "print_twice(michael)"
      ],
      "execution_count": 33,
      "outputs": [
        {
          "output_type": "stream",
          "text": [
            "hello, michael\n",
            "hello, michael\n"
          ],
          "name": "stdout"
        }
      ]
    },
    {
      "cell_type": "code",
      "metadata": {
        "id": "qWaF0TaPEcq5"
      },
      "source": [
        "#define a fruit function==>return value\n",
        "def mut_twice(x):\n",
        "  result = x**2\n",
        "  return result\n",
        "\n"
      ],
      "execution_count": 34,
      "outputs": []
    },
    {
      "cell_type": "code",
      "metadata": {
        "colab": {
          "base_uri": "https://localhost:8080/"
        },
        "id": "_jB3a_xXFH6C",
        "outputId": "c2e2ee32-099a-4be6-ab8a-a14ce9af4088"
      },
      "source": [
        "mut_twice(2)"
      ],
      "execution_count": 35,
      "outputs": [
        {
          "output_type": "execute_result",
          "data": {
            "text/plain": [
              "4"
            ]
          },
          "metadata": {
            "tags": []
          },
          "execution_count": 35
        }
      ]
    },
    {
      "cell_type": "code",
      "metadata": {
        "id": "lL1KBdlDFK6A"
      },
      "source": [
        "def fred():\n",
        "  print('zap')"
      ],
      "execution_count": 36,
      "outputs": []
    },
    {
      "cell_type": "code",
      "metadata": {
        "id": "5b51QT6GIGtV"
      },
      "source": [
        "def jane():\n",
        "  print(\"ABC\")\n"
      ],
      "execution_count": 37,
      "outputs": []
    },
    {
      "cell_type": "code",
      "metadata": {
        "colab": {
          "base_uri": "https://localhost:8080/"
        },
        "id": "1lgxOd-oILnQ",
        "outputId": "2bbc5807-e86e-432f-d106-378b8785ad77"
      },
      "source": [
        "jane()\n",
        "fred()\n",
        "jane()"
      ],
      "execution_count": 38,
      "outputs": [
        {
          "output_type": "stream",
          "text": [
            "ABC\n",
            "zap\n",
            "ABC\n"
          ],
          "name": "stdout"
        }
      ]
    },
    {
      "cell_type": "code",
      "metadata": {
        "id": "zdIjYBqXIRLa"
      },
      "source": [
        "def computepay(hours,rates):\n",
        "  hours = input(\"please enter hours: \")\n",
        "  rates = input(\"please enter rates: \")\n",
        "  return int(hours)*int(rates)"
      ],
      "execution_count": 41,
      "outputs": []
    },
    {
      "cell_type": "code",
      "metadata": {
        "colab": {
          "base_uri": "https://localhost:8080/"
        },
        "id": "uOidShlGIqFF",
        "outputId": "08179475-74d3-4e81-8c0b-5b778495de9b"
      },
      "source": [
        "computepay(2,3)"
      ],
      "execution_count": 42,
      "outputs": [
        {
          "output_type": "stream",
          "text": [
            "please enter hours: 2\n",
            "please enter rates: 3\n"
          ],
          "name": "stdout"
        },
        {
          "output_type": "execute_result",
          "data": {
            "text/plain": [
              "6"
            ]
          },
          "metadata": {
            "tags": []
          },
          "execution_count": 42
        }
      ]
    },
    {
      "cell_type": "code",
      "metadata": {
        "id": "LOFh2anXItGv"
      },
      "source": [
        "def computegrade(score):\n",
        "  try:\n",
        "    n_input = float(input_s)\n",
        "    if  n_input>=0.0 and n_input<=1.0:\n",
        "      if n_input >=0.9:\n",
        "        print(\"A\")\n",
        "      elif n_input>=0.8:\n",
        "        print(\"B\")\n",
        "      elif n_input>=0.7:\n",
        "        print(\"C\")\n",
        "      elif n_input>=0.6:\n",
        "        print('D')\n",
        "      else:\n",
        "        print(\"F\")\n",
        "    else:\n",
        "      print('please enter a number within the range: ')\n",
        "  except:\n",
        "    print(\"please enter a number\")"
      ],
      "execution_count": 43,
      "outputs": []
    },
    {
      "cell_type": "code",
      "metadata": {
        "colab": {
          "base_uri": "https://localhost:8080/"
        },
        "id": "ZBpCBh7eJFPR",
        "outputId": "26353990-a0c0-4fba-8840-64ec444178dc"
      },
      "source": [
        "computegrade(0.3)"
      ],
      "execution_count": 44,
      "outputs": [
        {
          "output_type": "stream",
          "text": [
            "F\n"
          ],
          "name": "stdout"
        }
      ]
    },
    {
      "cell_type": "code",
      "metadata": {
        "id": "zFFgbRqPJHx8"
      },
      "source": [
        ""
      ],
      "execution_count": null,
      "outputs": []
    }
  ]
}