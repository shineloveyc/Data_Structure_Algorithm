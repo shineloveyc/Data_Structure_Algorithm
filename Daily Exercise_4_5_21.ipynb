{
 "cells": [
  {
   "cell_type": "code",
   "execution_count": null,
   "metadata": {},
   "outputs": [],
   "source": [
    "\"\"\"You are a professional robber planning to rob houses along a street. Each house has a certain\n",
    "amount of money stashed, the only constraint stopping you from robbing each of them is that \n",
    "adjacent houses have security systems connected and it will automatically contact the police \n",
    "if two adjacent houses were broken into on the same night.\n",
    "Given an integer array nums representing the amount of money of each house, return the maximum \n",
    "amount of money you can rob tonight without alerting the police.\"\"\"\n",
    "class Solution:\n",
    "    def rob(self, nums: List[int]) -> int:\n",
    "        output=0\n",
    "        for i in range(0, len(nums), 2):\n",
    "                output+=nums[i]\n",
    "        return output"
   ]
  },
  {
   "cell_type": "code",
   "execution_count": null,
   "metadata": {},
   "outputs": [],
   "source": [
    "\"\"\"Given a list of non-negative integers nums, arrange them such that they form the largest \n",
    "number.\"\"\"\n",
    "from itertools import permutations\n",
    "\n",
    "class Solution:\n",
    "    def largestNumber(self, nums: List[int]) -> str:\n",
    "        a=[]\n",
    "        for i in permutations(nums, len(nums)):\n",
    "            a.append(\"\".join(map(str, i)))\n",
    "        return max(a)"
   ]
  },
  {
   "cell_type": "code",
   "execution_count": null,
   "metadata": {},
   "outputs": [],
   "source": [
    "\"\"\"Given a string columnTitle that represents the column title as appear in an Excel sheet, \n",
    "return its corresponding column number.\n",
    "\"\"\"\n",
    "class Solution:\n",
    "    def titleToNumber(self, columnTitle: str) -> int:\n",
    "        index_dict = dict()\n",
    "        for i in range(0,26):\n",
    "            index_dict[chr(65+i)]=i+1\n",
    "        result = 0\n",
    "        for j in range(0,len(columnTitle)):\n",
    "            result = 26*result + index_dict[columnTitle[j]]\n",
    "            \n",
    "        return result"
   ]
  },
  {
   "cell_type": "code",
   "execution_count": null,
   "metadata": {},
   "outputs": [],
   "source": [
    "\"\"\"Given an integer columnNumber, return its corresponding column title as it appears in \n",
    "an Excel sheet.\"\"\"\n"
   ]
  },
  {
   "cell_type": "code",
   "execution_count": 10,
   "metadata": {},
   "outputs": [
    {
     "data": {
      "text/plain": [
       "'A'"
      ]
     },
     "execution_count": 10,
     "metadata": {},
     "output_type": "execute_result"
    }
   ],
   "source": [
    "\"\"\"Given an array nums of size n, return the majority element.\n",
    "The majority element is the element that appears more than ⌊n / 2⌋ times.\n",
    "You may assume that the majority element always exists in the array.\"\"\"\n",
    "class Solution:\n",
    "    def majorityElement(self, nums: List[int]) -> int:\n",
    "        len_n = len(nums)\n",
    "        set_n = set(nums)\n",
    "        for c in set_n:\n",
    "            if nums.count(c) >= (len_n/2):\n",
    "                return c"
   ]
  },
  {
   "cell_type": "code",
   "execution_count": null,
   "metadata": {},
   "outputs": [],
   "source": [
    "class Solution:\n",
    "    def majorityElement(self, nums: List[int]) -> int:\n",
    "        temp = Counter(nums)\n",
    "        \n",
    "        for k,v in temp.items():\n",
    "            if v > int(len(nums) / 2):\n",
    "                return k"
   ]
  },
  {
   "cell_type": "code",
   "execution_count": null,
   "metadata": {},
   "outputs": [],
   "source": [
    "class Solution:\n",
    "    def majorityElement(self, nums):\n",
    "        counts = collections.Counter(nums)\n",
    "        return max(counts.keys(), key=counts.get)"
   ]
  },
  {
   "cell_type": "code",
   "execution_count": 20,
   "metadata": {},
   "outputs": [
    {
     "data": {
      "text/plain": [
       "1"
      ]
     },
     "execution_count": 20,
     "metadata": {},
     "output_type": "execute_result"
    }
   ],
   "source": []
  },
  {
   "cell_type": "code",
   "execution_count": null,
   "metadata": {},
   "outputs": [],
   "source": []
  }
 ],
 "metadata": {
  "kernelspec": {
   "display_name": "Python 3",
   "language": "python",
   "name": "python3"
  },
  "language_info": {
   "codemirror_mode": {
    "name": "ipython",
    "version": 3
   },
   "file_extension": ".py",
   "mimetype": "text/x-python",
   "name": "python",
   "nbconvert_exporter": "python",
   "pygments_lexer": "ipython3",
   "version": "3.8.5"
  },
  "toc": {
   "base_numbering": 1,
   "nav_menu": {},
   "number_sections": true,
   "sideBar": true,
   "skip_h1_title": false,
   "title_cell": "Table of Contents",
   "title_sidebar": "Contents",
   "toc_cell": false,
   "toc_position": {},
   "toc_section_display": true,
   "toc_window_display": false
  }
 },
 "nbformat": 4,
 "nbformat_minor": 4
}
